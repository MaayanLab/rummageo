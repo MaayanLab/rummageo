{
 "cells": [
  {
   "cell_type": "code",
   "execution_count": 3,
   "metadata": {},
   "outputs": [],
   "source": [
    "import json\n",
    "import pandas as pd\n",
    "import numpy as np\n",
    "import itertools\n",
    "from sklearn.metrics import adjusted_rand_score\n",
    "import seaborn as sns"
   ]
  },
  {
   "cell_type": "code",
   "execution_count": 4,
   "metadata": {},
   "outputs": [],
   "source": [
    "with open('data/gse_processed_meta_human_conf.json') as f:\n",
    "    gse_meta_human = json.load(f)\n",
    "\n",
    "with open('data/gse_processed_meta_mouse_conf.json') as f:\n",
    "    gse_meta_mouse = json.load(f)"
   ]
  },
  {
   "cell_type": "code",
   "execution_count": 5,
   "metadata": {},
   "outputs": [],
   "source": [
    "rummaGEO_gses = list(set(list(gse_meta_human.keys()) + list(gse_meta_mouse.keys())))"
   ]
  },
  {
   "cell_type": "code",
   "execution_count": 6,
   "metadata": {},
   "outputs": [],
   "source": [
    "human_bulk_d2h2 = pd.read_csv('data/benchmarking_clustering/D2H2-bulkrna-microarray-studies.csv', index_col=0)\n",
    "mouse_bulk_d2h2 = pd.read_csv('data/benchmarking_clustering/D2H2-bulkrna-microarray-studies (1).csv', index_col=0)"
   ]
  },
  {
   "cell_type": "code",
   "execution_count": 19,
   "metadata": {},
   "outputs": [],
   "source": [
    "human_d2h2_overlap = set(human_bulk_d2h2.index.values).intersection(set(rummaGEO_gses))\n",
    "mouse_d2h2_overlap = set(mouse_bulk_d2h2.index.values).intersection(set(rummaGEO_gses))"
   ]
  },
  {
   "cell_type": "code",
   "execution_count": 20,
   "metadata": {},
   "outputs": [],
   "source": [
    "d2h2_groupings = {}\n",
    "for gse in human_d2h2_overlap:\n",
    "    gse_meta = pd.read_csv(f'https://d2h2.s3.amazonaws.com/data/human/{gse}/{gse}_Metadata.tsv', index_col=0, sep='\\t')\n",
    "    gse_meta['condition + group'] = gse_meta['Condition'] + ' ' + gse_meta['Group']\n",
    "    d2h2_groupings[gse] = {}\n",
    "    for i, cond in enumerate(list(gse_meta['condition + group'].unique())):\n",
    "        gsms_cond = list(gse_meta[gse_meta['condition + group'] == cond].index.values)\n",
    "        d2h2_groupings[gse][i] = gsms_cond"
   ]
  },
  {
   "cell_type": "code",
   "execution_count": 21,
   "metadata": {},
   "outputs": [],
   "source": [
    "for gse in mouse_d2h2_overlap:\n",
    "    gse_meta = pd.read_csv(f'https://d2h2.s3.amazonaws.com/data/mouse/{gse}/{gse}_Metadata.tsv', index_col=0, sep='\\t')\n",
    "    gse_meta['condition + group'] = gse_meta['Condition'] + ' ' + gse_meta['Group']\n",
    "    d2h2_groupings[gse] = {}\n",
    "    for i, cond in enumerate(list(gse_meta['condition + group'].unique())):\n",
    "        gsms_cond = list(gse_meta[gse_meta['condition + group'] == cond].index.values)\n",
    "        d2h2_groupings[gse][i] = gsms_cond"
   ]
  },
  {
   "cell_type": "code",
   "execution_count": 22,
   "metadata": {},
   "outputs": [],
   "source": [
    "rand_scores = []\n",
    "for gse in d2h2_groupings:\n",
    "    gse_cluster_df  = pd.DataFrame(columns=['d2h2 cluster'])\n",
    "    for cluster in list(d2h2_groupings[gse]):\n",
    "        for gsm in d2h2_groupings[gse][cluster]:\n",
    "            gse_cluster_df.loc[gsm] = [cluster]\n",
    "    if gse in human_d2h2_overlap:\n",
    "        rummageo_meta = gse_meta_human[gse]\n",
    "    else:\n",
    "        rummageo_meta = gse_meta_mouse[gse]\n",
    "    rummageo_col = []\n",
    "    overlap = set(list(itertools.chain.from_iterable(list(rummageo_meta['samples'].values())))).intersection(set(gse_cluster_df.index.values))\n",
    "    gse_cluster_df = gse_cluster_df.loc[list(overlap)]\n",
    "    for gsm in gse_cluster_df.index.values:\n",
    "        for cluster2 in rummageo_meta['samples']:\n",
    "            if gsm in rummageo_meta['samples'][cluster2]:\n",
    "                rummageo_col.append(cluster2)\n",
    "    gse_cluster_df['rummageo cluster'] = rummageo_col\n",
    "    \n",
    "    rand_scores.append(adjusted_rand_score(gse_cluster_df['d2h2 cluster'], gse_cluster_df['rummageo cluster']))"
   ]
  },
  {
   "cell_type": "code",
   "execution_count": 23,
   "metadata": {},
   "outputs": [
    {
     "name": "stdout",
     "output_type": "stream",
     "text": [
      "# D2H2 Studies: 178 Mean: 0.8092985851389296 Std: 0.31174276476005036\n"
     ]
    }
   ],
   "source": [
    "print('# D2H2 Studies:', len(rand_scores),'Mean:', np.mean(rand_scores),'Std:', np.std(rand_scores))"
   ]
  },
  {
   "cell_type": "code",
   "execution_count": 24,
   "metadata": {},
   "outputs": [],
   "source": [
    "with open('/Users/giacomomarino/rummageo-analysis/data/benchmarking_clustering/Disease_information_DEGs (1).gmt') as f:\n",
    "    disease_info = f.readlines()\n",
    "\n",
    "DiSignAtlas = {}\n",
    "for l in disease_info:\n",
    "    meta = l.split('\\t')[1]\n",
    "    gse = meta.split('|')[0]\n",
    "    ctrl = meta.split('|')[1].split(';')\n",
    "    pert = meta.split('|')[2].split(';')\n",
    "    DiSignAtlas[gse] = {'0': ctrl, '1': pert}\n",
    "    "
   ]
  },
  {
   "cell_type": "code",
   "execution_count": 25,
   "metadata": {},
   "outputs": [],
   "source": [
    "disign_overlap = list(set(DiSignAtlas.keys()).intersection(set(rummaGEO_gses)))"
   ]
  },
  {
   "cell_type": "code",
   "execution_count": 26,
   "metadata": {},
   "outputs": [],
   "source": [
    "rand_scores_disign = []\n",
    "for gse in disign_overlap:\n",
    "    gse_cluster_df  = pd.DataFrame(columns=['disign cond'])\n",
    "    for cluster in list(DiSignAtlas[gse]):\n",
    "        for gsm in DiSignAtlas[gse][cluster]:\n",
    "            gse_cluster_df.loc[gsm] = [cluster]\n",
    "    \n",
    "    if gse in human_d2h2_overlap:\n",
    "        rummageo_meta = gse_meta_human[gse]\n",
    "    elif gse in mouse_d2h2_overlap:\n",
    "        rummageo_meta = gse_meta_mouse[gse]\n",
    "\n",
    "    rummageo_col = []\n",
    "    overlap = set(list(itertools.chain.from_iterable(list(rummageo_meta['samples'].values())))).intersection(set(gse_cluster_df.index.values))\n",
    "    gse_cluster_df = gse_cluster_df.loc[list(overlap)]\n",
    "    for gsm in gse_cluster_df.index.values:\n",
    "        for cluster2 in rummageo_meta['samples']:\n",
    "            if gsm in rummageo_meta['samples'][cluster2]:\n",
    "                rummageo_col.append(cluster2)\n",
    "    gse_cluster_df['rummageo cluster'] = rummageo_col\n",
    "    \n",
    "    rand_scores_disign.append(adjusted_rand_score(gse_cluster_df['disign cond'], gse_cluster_df['rummageo cluster']))"
   ]
  },
  {
   "cell_type": "code",
   "execution_count": 27,
   "metadata": {},
   "outputs": [
    {
     "name": "stdout",
     "output_type": "stream",
     "text": [
      "# DiSignAtlas Studies: 1010 Mean: 0.998019801980198 Std: 0.04445533528840327\n"
     ]
    }
   ],
   "source": [
    "print('# DiSignAtlas Studies:', len(rand_scores_disign),'Mean:', np.mean(rand_scores_disign), 'Std:', np.std(rand_scores_disign))"
   ]
  },
  {
   "cell_type": "code",
   "execution_count": 28,
   "metadata": {},
   "outputs": [],
   "source": [
    "auto_df_human = pd.read_csv('data/benchmarking_clustering/human_gsm4sig_v2.csv', index_col=0)\n",
    "auto_df_mouse = pd.read_csv('data/benchmarking_clustering/mouse_gsm4sig_v2.csv', index_col=0)"
   ]
  },
  {
   "cell_type": "code",
   "execution_count": 29,
   "metadata": {},
   "outputs": [],
   "source": [
    "auto_dict_human = auto_df_human.to_dict(orient='records')\n",
    "auto_dict_mouse = auto_df_mouse.to_dict(orient='records')\n",
    "autoSigGen_dict = {}\n",
    "for val in auto_dict_human:\n",
    "    autoSigGen_dict[val['series_id']] = {'0': val['ctrl_gsm'] , '1': val['pert_gsm']}\n",
    "for val in auto_dict_mouse:\n",
    "    autoSigGen_dict[val['series_id']] = {'0': val['ctrl_gsm'] , '1': val['pert_gsm']}"
   ]
  },
  {
   "cell_type": "code",
   "execution_count": 30,
   "metadata": {},
   "outputs": [],
   "source": [
    "overlap_auto_sig_gen = set(autoSigGen_dict.keys()).intersection(set(rummaGEO_gses))"
   ]
  },
  {
   "cell_type": "code",
   "execution_count": 31,
   "metadata": {},
   "outputs": [],
   "source": [
    "rand_scores_auto = []\n",
    "for gse in overlap_auto_sig_gen:\n",
    "    gse_cluster_df  = pd.DataFrame(columns=['autosiggen cond'])\n",
    "    for cluster in list(autoSigGen_dict[gse]):\n",
    "        for gsm in autoSigGen_dict[gse][cluster]:\n",
    "            gse_cluster_df.loc[gsm] = [cluster]\n",
    "    \n",
    "    if gse in gse_meta_human:\n",
    "        rummageo_meta = gse_meta_human[gse]\n",
    "    elif gse in gse_meta_mouse:\n",
    "        rummageo_meta = gse_meta_mouse[gse]\n",
    "\n",
    "    rummageo_col = []\n",
    "    overlap = set(list(itertools.chain.from_iterable(list(rummageo_meta['samples'].values())))).intersection(set(gse_cluster_df.index.values))\n",
    "    gse_cluster_df = gse_cluster_df.loc[list(overlap)]\n",
    "    for gsm in gse_cluster_df.index.values:\n",
    "        for cluster2 in rummageo_meta['samples']:\n",
    "            if gsm in rummageo_meta['samples'][cluster2]:\n",
    "                rummageo_col.append(cluster2)\n",
    "    gse_cluster_df['rummageo cluster'] = rummageo_col\n",
    "    \n",
    "    rand_scores_auto.append(adjusted_rand_score(gse_cluster_df['autosiggen cond'], gse_cluster_df['rummageo cluster']))"
   ]
  },
  {
   "cell_type": "code",
   "execution_count": 32,
   "metadata": {},
   "outputs": [
    {
     "name": "stdout",
     "output_type": "stream",
     "text": [
      "# AutoSigGen Studies: 10319 Mean: 1.0 Std: 0.0\n"
     ]
    }
   ],
   "source": [
    "print('# AutoSigGen Studies:', len(rand_scores_auto),'Mean:', np.mean(rand_scores_auto), 'Std:', np.std(rand_scores_auto))"
   ]
  },
  {
   "cell_type": "code",
   "execution_count": 33,
   "metadata": {},
   "outputs": [],
   "source": [
    "scores_df = pd.DataFrame(data=[rand_scores, rand_scores_disign, rand_scores_auto], \n",
    "                         index=[f'D2H2 ({len(rand_scores)})', f'DiSignAtlas ({len(rand_scores_disign)})', f'AutoSigGen ({len(rand_scores_auto)})' ]).T"
   ]
  },
  {
   "cell_type": "code",
   "execution_count": 34,
   "metadata": {},
   "outputs": [
    {
     "data": {
      "text/plain": [
       "Text(0, 0.5, 'Adjusted Rand Index')"
      ]
     },
     "execution_count": 34,
     "metadata": {},
     "output_type": "execute_result"
    },
    {
     "data": {
      "image/png": "[encoded data removed]",
      "text/plain": [
       "<Figure size 640x480 with 1 Axes>"
      ]
     },
     "metadata": {},
     "output_type": "display_data"
    }
   ],
   "source": [
    "ax = sns.boxplot(data=scores_df, color='lightblue', linewidth=2)\n",
    "ax.set_ylabel('Adjusted Rand Index')"
   ]
  },
  {
   "cell_type": "code",
   "execution_count": 2,
   "metadata": {},
   "outputs": [],
   "source": [
    "import json\n",
    "with open('data/sig_tissue_mapper.json') as f:\n",
    "    sig_tissue_mapper = json.load(f)"
   ]
  },
  {
   "cell_type": "code",
   "execution_count": 4,
   "metadata": {},
   "outputs": [],
   "source": [
    "study_tissues = {}\n",
    "for sig in sig_tissue_mapper:\n",
    "    gse = sig.split('-')[0]\n",
    "    if gse not in study_tissues:\n",
    "        study_tissues[gse] = sig_tissue_mapper[sig]"
   ]
  },
  {
   "cell_type": "code",
   "execution_count": 7,
   "metadata": {},
   "outputs": [
    {
     "name": "stdout",
     "output_type": "stream",
     "text": [
      "0.1458006718924972\n"
     ]
    }
   ],
   "source": [
    "count = 0\n",
    "for t in list(study_tissues.values()):\n",
    "    if ',' in t:\n",
    "        count +=1\n",
    "print(count/len(study_tissues))"
   ]
  },
  {
   "cell_type": "code",
   "execution_count": null,
   "metadata": {},
   "outputs": [],
   "source": []
  }
 ],
 "metadata": {
  "kernelspec": {
   "display_name": "venv",
   "language": "python",
   "name": "python3"
  },
  "language_info": {
   "codemirror_mode": {
    "name": "ipython",
    "version": 3
   },
   "file_extension": ".py",
   "mimetype": "text/x-python",
   "name": "python",
   "nbconvert_exporter": "python",
   "pygments_lexer": "ipython3",
   "version": "3.11.9"
  }
 },
 "nbformat": 4,
 "nbformat_minor": 2
}
